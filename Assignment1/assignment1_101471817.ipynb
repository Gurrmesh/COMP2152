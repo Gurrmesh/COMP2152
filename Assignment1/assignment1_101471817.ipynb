{
 "cells": [
  {
   "cell_type": "code",
   "execution_count": 4,
   "id": "04c57af7-9921-4780-831d-801b440bb9b7",
   "metadata": {},
   "outputs": [
    {
     "name": "stdout",
     "output_type": "stream",
     "text": [
      "Yoga and Running minutes for all friends:\n",
      "[30, 45]\n",
      "[25, 50]\n",
      "[40, 30]\n",
      "Weightlifting minutes for the last two friends:\n",
      "30\n",
      "25\n"
     ]
    },
    {
     "name": "stdout",
     "output_type": "stream",
     "text": [
      "Enter a friend's name to check their workout stats:  Srushti mahesh kumar patel\n"
     ]
    },
    {
     "name": "stdout",
     "output_type": "stream",
     "text": [
      "Workout minutes for Srushti mahesh kumar patel: (30, 45, 20)\n",
      "Total workout minutes: 95\n",
      "Friend with the highest total workout minutes:  Rudramani Dhiman with 105 minutes\n",
      "Friend with the lowest total workout minutes: Srushti mahesh kumar patel with 95 minutes\n"
     ]
    }
   ],
   "source": [
    "# Author: <Gurrmesh Singgh>\n",
    "# Assignment: #1\n",
    "gym_member = \"Srushti mahesh kumar patel\"\n",
    "preferred_weight_kg = 20.5\n",
    "highest_reps = 25\n",
    "membership_active = True\n",
    "workout_stats = {\n",
    "    \"Srushti mahesh kumar patel\": (30, 45, 20),\n",
    "    \" Rudramani Dhiman\": (25, 50, 30),\n",
    "    \"Jasleen Saini\": (40, 30, 25)\n",
    "}\n",
    "total_minutes_dict = {}\n",
    "for friend, activities in workout_stats.items():\n",
    "    total_minutes = sum(activities)\n",
    "    total_minutes_dict[f\"{friend}_Total\"] = total_minutes\n",
    "workout_stats.update(total_minutes_dict)\n",
    "workout_list = [list(workout_stats[friend]) for friend in workout_stats if not 'Total' in friend]\n",
    "print(\"Yoga and Running minutes for all friends:\")\n",
    "for workout in workout_list:\n",
    "    print(workout[:2])\n",
    "print(\"Weightlifting minutes for the last two friends:\")\n",
    "for workout in workout_list[-2:]:\n",
    "    print(workout[2])\n",
    "for friend in workout_stats:\n",
    "    if \"Total\" in friend and workout_stats[friend] >= 120:\n",
    "        print(f\"Great job staying active, {friend.split('_')[0]}!\")\n",
    "friend_name = input(\"Enter a friend's name to check their workout stats: \")\n",
    "if friend_name in workout_stats and not 'Total' in friend_name:\n",
    "    print(f\"Workout minutes for {friend_name}: {workout_stats[friend_name]}\")\n",
    "    print(f\"Total workout minutes: {workout_stats[f'{friend_name}_Total']}\")\n",
    "else:\n",
    "    print(f\"Friend {friend_name} not found in the records.\")\n",
    "total_minutes = {friend: workout_stats[friend] for friend in workout_stats if \"Total\" in friend}\n",
    "max_friend = max(total_minutes, key=total_minutes.get)\n",
    "min_friend = min(total_minutes, key=total_minutes.get)\n",
    "print(f\"Friend with the highest total workout minutes: {max_friend.split('_')[0]} with {total_minutes[max_friend]} minutes\")\n",
    "print(f\"Friend with the lowest total workout minutes: {min_friend.split('_')[0]} with {total_minutes[min_friend]} minutes\")\n"
   ]
  },
  {
   "cell_type": "code",
   "execution_count": null,
   "id": "1a14b786-a25b-43bc-8703-14deb48562f0",
   "metadata": {},
   "outputs": [],
   "source": []
  }
 ],
 "metadata": {
  "kernelspec": {
   "display_name": "Python 3 (ipykernel)",
   "language": "python",
   "name": "python3"
  },
  "language_info": {
   "codemirror_mode": {
    "name": "ipython",
    "version": 3
   },
   "file_extension": ".py",
   "mimetype": "text/x-python",
   "name": "python",
   "nbconvert_exporter": "python",
   "pygments_lexer": "ipython3",
   "version": "3.9.21"
  }
 },
 "nbformat": 4,
 "nbformat_minor": 5
}
